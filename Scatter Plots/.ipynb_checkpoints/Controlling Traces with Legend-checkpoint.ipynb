{
 "cells": [
  {
   "cell_type": "code",
   "execution_count": 1,
   "id": "ddce82cc-dc05-42fc-a35e-17633e1e73a4",
   "metadata": {},
   "outputs": [],
   "source": [
    "import plotly.offline as pyo\n",
    "\n",
    "from plotly.graph_objs import *\n",
    "\n",
    "import chart_studio.plotly as py\n",
    "\n",
    "import pandas as pd\n",
    "from pandas import DataFrame"
   ]
  },
  {
   "cell_type": "code",
   "execution_count": null,
   "id": "dcf8b1e1-5462-4f5b-8552-9c18c622303d",
   "metadata": {},
   "outputs": [],
   "source": [
    "pyo.offline.init_notebook_mode()"
   ]
  }
 ],
 "metadata": {
  "kernelspec": {
   "display_name": "Python 3 (ipykernel)",
   "language": "python",
   "name": "python3"
  },
  "language_info": {
   "codemirror_mode": {
    "name": "ipython",
    "version": 3
   },
   "file_extension": ".py",
   "mimetype": "text/x-python",
   "name": "python",
   "nbconvert_exporter": "python",
   "pygments_lexer": "ipython3",
   "version": "3.9.7"
  }
 },
 "nbformat": 4,
 "nbformat_minor": 5
}
